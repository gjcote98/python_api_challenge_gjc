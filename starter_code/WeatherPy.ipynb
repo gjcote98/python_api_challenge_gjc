{
 "cells": [
  {
   "cell_type": "markdown",
   "metadata": {},
   "source": [
    "# WeatherPy\n",
    "----\n",
    "\n",
    "#### Note\n",
    "* Instructions have been included for each segment. You do not have to follow them exactly, but they are included to help you think through the steps."
   ]
  },
  {
   "cell_type": "code",
   "execution_count": 10,
   "metadata": {
    "scrolled": true
   },
   "outputs": [],
   "source": [
    "# Dependencies and Setup\n",
    "import matplotlib.pyplot as plt\n",
    "import pandas as pd\n",
    "import numpy as np\n",
    "import requests\n",
    "import time\n",
    "from scipy.stats import linregress\n",
    "\n",
    "# Import API key\n",
    "from api_keys import weather_api_key\n",
    "\n",
    "# Incorporated citipy to determine city based on latitude and longitude\n",
    "from citipy import citipy\n",
    "\n",
    "# Output File (CSV)\n",
    "output_data_file = \"../output_data/cities.csv\"\n",
    "\n",
    "# Range of latitudes and longitudes\n",
    "lat_range = (-90, 90)\n",
    "lng_range = (-180, 180)"
   ]
  },
  {
   "cell_type": "markdown",
   "metadata": {},
   "source": [
    "## Generate Cities List"
   ]
  },
  {
   "cell_type": "code",
   "execution_count": 2,
   "metadata": {},
   "outputs": [
    {
     "data": {
      "text/plain": [
       "638"
      ]
     },
     "execution_count": 2,
     "metadata": {},
     "output_type": "execute_result"
    }
   ],
   "source": [
    "# List for holding lat_lngs and cities\n",
    "lat_lngs = []\n",
    "cities = []\n",
    "city_name = []\n",
    "latitude = []\n",
    "longitude = []\n",
    "temperature = []\n",
    "humidity = []\n",
    "cloudiness = []\n",
    "wind_speed = []\n",
    "country_name = []\n",
    "date = []\n",
    "\n",
    "# Create a set of random lat and lng combinations\n",
    "lats = np.random.uniform(lat_range[0], lat_range[1], size=1500)\n",
    "lngs = np.random.uniform(lng_range[0], lng_range[1], size=1500)\n",
    "lat_lngs = zip(lats, lngs)\n",
    "\n",
    "# Identify nearest city for each lat, lng combination\n",
    "for lat_lng in lat_lngs:\n",
    "    city = citipy.nearest_city(lat_lng[0], lat_lng[1]).city_name\n",
    "    \n",
    "    # If the city is unique, then add it to a our cities list\n",
    "    if city not in cities:\n",
    "        cities.append(city)\n",
    "\n",
    "# Print the city count to confirm sufficient count\n",
    "len(cities)"
   ]
  },
  {
   "cell_type": "code",
   "execution_count": null,
   "metadata": {},
   "outputs": [],
   "source": []
  },
  {
   "cell_type": "markdown",
   "metadata": {},
   "source": [
    "### Perform API Calls\n",
    "* Perform a weather check on each city using a series of successive API calls.\n",
    "* Include a print log of each city as it'sbeing processed (with the city number and city name).\n"
   ]
  },
  {
   "cell_type": "code",
   "execution_count": 3,
   "metadata": {
    "scrolled": true
   },
   "outputs": [],
   "source": [
    "record_counter=0\n",
    "set_counter=0\n",
    "base_url=\"http://api.openweathermap.org/data/2.5/weather?\"\n",
    "units=\"Imperial\"\n",
    "url=base_url+\"&appid=\"+weather_api_key+\"&units=\"+units"
   ]
  },
  {
   "cell_type": "code",
   "execution_count": null,
   "metadata": {},
   "outputs": [],
   "source": [
    "query_url=url+\"&q=\"+cities[0]\n",
    "response=requests.get(query_url).json()"
   ]
  },
  {
   "cell_type": "code",
   "execution_count": 14,
   "metadata": {},
   "outputs": [
    {
     "name": "stdout",
     "output_type": "stream",
     "text": [
      "-------------------------------------------\n",
      "Beginning Data Retrieval\n",
      "-------------------------------------------\n",
      "Processing Record 26 of set 0 | sao filipe\n",
      "Processing Record 27 of set 0 | avarua\n",
      "Processing Record 28 of set 0 | luvianos\n",
      "Processing Record 29 of set 0 | douentza\n",
      "Processing Record 30 of set 0 | atuona\n",
      "Processing Record 31 of set 0 | kargopol\n",
      "Processing Record 32 of set 0 | santa cruz\n",
      "Processing Record 33 of set 0 | yar-sale\n",
      "Processing Record 34 of set 0 | ribeira grande\n",
      "Processing Record 35 of set 0 | saint-philippe\n",
      "Processing Record 36 of set 0 | morant bay\n",
      "Processing Record 37 of set 0 | luderitz\n",
      "Processing Record 38 of set 0 | acapulco\n",
      "Processing Record 39 of set 0 | nanortalik\n",
      "Processing Record 40 of set 0 | west helena\n",
      "Processing Record 41 of set 0 | sao gabriel da cachoeira\n",
      "Processing Record 42 of set 0 | busselton\n",
      "Processing Record 43 of set 0 | ushuaia\n",
      "Processing Record 44 of set 0 | shaowu\n",
      "Processing Record 45 of set 0 | korla\n",
      "Processing Record 46 of set 0 | najran\n",
      "Processing Record 47 of set 0 | albany\n",
      "Processing Record 48 of set 0 | hithadhoo\n",
      "Processing Record 49 of set 0 | arraial do cabo\n",
      "Processing Record 50 of set 0 | punta arenas\n",
      "Processing Record 0 of set 1 | puerto narino\n",
      "Processing Record 1 of set 1 | cherskiy\n",
      "no key\n",
      "Processing Record 3 of set 1 | barrow\n",
      "Processing Record 4 of set 1 | damavand\n",
      "Processing Record 5 of set 1 | nikolskoye\n",
      "Processing Record 6 of set 1 | tuktoyaktuk\n",
      "Processing Record 7 of set 1 | rikitea\n",
      "Processing Record 8 of set 1 | mataura\n",
      "Processing Record 9 of set 1 | porbandar\n",
      "Processing Record 10 of set 1 | tasiilaq\n",
      "Processing Record 11 of set 1 | talcahuano\n",
      "Processing Record 12 of set 1 | pevek\n",
      "Processing Record 13 of set 1 | vila franca do campo\n",
      "Processing Record 14 of set 1 | port elizabeth\n",
      "Processing Record 15 of set 1 | sungaipenuh\n",
      "no key\n",
      "Processing Record 17 of set 1 | rondonopolis\n",
      "Processing Record 18 of set 1 | yellowknife\n",
      "Processing Record 19 of set 1 | butaritari\n",
      "no key\n",
      "Processing Record 21 of set 1 | swan hill\n",
      "Processing Record 22 of set 1 | angoche\n",
      "Processing Record 23 of set 1 | olinda\n",
      "Processing Record 24 of set 1 | bakchar\n",
      "Processing Record 25 of set 1 | kapaa\n",
      "Processing Record 26 of set 1 | pontes e lacerda\n",
      "Processing Record 27 of set 1 | adrar\n",
      "Processing Record 28 of set 1 | cabra\n",
      "Processing Record 29 of set 1 | khatanga\n",
      "Processing Record 30 of set 1 | constitucion\n",
      "Processing Record 31 of set 1 | bambous virieux\n",
      "Processing Record 32 of set 1 | shakhtinsk\n",
      "Processing Record 33 of set 1 | kruisfontein\n",
      "Processing Record 34 of set 1 | cape town\n",
      "Processing Record 35 of set 1 | amapa\n",
      "Processing Record 36 of set 1 | noyabrsk\n",
      "Processing Record 37 of set 1 | komsomolskiy\n",
      "Processing Record 38 of set 1 | necochea\n",
      "Processing Record 39 of set 1 | vaini\n",
      "Processing Record 40 of set 1 | boende\n",
      "Processing Record 41 of set 1 | jamestown\n",
      "Processing Record 42 of set 1 | tezu\n",
      "Processing Record 43 of set 1 | lata\n",
      "Processing Record 44 of set 1 | port alfred\n",
      "Processing Record 45 of set 1 | araouane\n",
      "Processing Record 46 of set 1 | andapa\n",
      "Processing Record 47 of set 1 | bethel\n",
      "Processing Record 48 of set 1 | kaitangata\n",
      "Processing Record 49 of set 1 | swift current\n",
      "no key\n",
      "Processing Record 0 of set 2 | clyde river\n",
      "Processing Record 1 of set 2 | sibolga\n",
      "Processing Record 2 of set 2 | buraydah\n",
      "Processing Record 3 of set 2 | bareli\n",
      "Processing Record 4 of set 2 | chokurdakh\n",
      "Processing Record 5 of set 2 | new norfolk\n",
      "Processing Record 6 of set 2 | saskylakh\n",
      "Processing Record 7 of set 2 | swinoujscie\n",
      "Processing Record 8 of set 2 | hilo\n",
      "Processing Record 9 of set 2 | souillac\n",
      "Processing Record 10 of set 2 | baculin\n",
      "Processing Record 11 of set 2 | doha\n",
      "Processing Record 12 of set 2 | padang\n",
      "Processing Record 13 of set 2 | minab\n",
      "Processing Record 14 of set 2 | sisimiut\n",
      "Processing Record 15 of set 2 | cayenne\n",
      "Processing Record 16 of set 2 | mount isa\n",
      "Processing Record 17 of set 2 | male\n",
      "Processing Record 18 of set 2 | mogadishu\n",
      "Processing Record 19 of set 2 | cedar city\n",
      "Processing Record 20 of set 2 | vao\n",
      "Processing Record 21 of set 2 | provideniya\n",
      "no key\n",
      "Processing Record 23 of set 2 | safaga\n",
      "Processing Record 24 of set 2 | keti bandar\n",
      "Processing Record 25 of set 2 | tortoli\n",
      "Processing Record 26 of set 2 | opuwo\n",
      "Processing Record 27 of set 2 | gamba\n",
      "Processing Record 28 of set 2 | chernenko\n",
      "Processing Record 29 of set 2 | bluff\n",
      "Processing Record 30 of set 2 | east london\n",
      "Processing Record 31 of set 2 | balsa\n",
      "Processing Record 32 of set 2 | marovoay\n",
      "Processing Record 33 of set 2 | mamakan\n",
      "Processing Record 34 of set 2 | gweta\n",
      "Processing Record 35 of set 2 | qaanaaq\n",
      "Processing Record 36 of set 2 | yulara\n",
      "Processing Record 37 of set 2 | lebu\n",
      "Processing Record 38 of set 2 | taoudenni\n",
      "Processing Record 39 of set 2 | kisii\n",
      "no key\n",
      "Processing Record 41 of set 2 | skibotn\n",
      "Processing Record 42 of set 2 | baglung\n",
      "Processing Record 43 of set 2 | port augusta\n",
      "Processing Record 44 of set 2 | bredasdorp\n",
      "Processing Record 45 of set 2 | axim\n",
      "Processing Record 46 of set 2 | toktogul\n",
      "Processing Record 47 of set 2 | mbumi\n",
      "no key\n",
      "Processing Record 49 of set 2 | remedios\n",
      "Processing Record 50 of set 2 | pangnirtung\n",
      "Processing Record 0 of set 3 | upernavik\n",
      "Processing Record 1 of set 3 | elat\n",
      "Processing Record 2 of set 3 | hermanus\n",
      "Processing Record 3 of set 3 | plettenberg bay\n",
      "Processing Record 4 of set 3 | paracuru\n",
      "Processing Record 5 of set 3 | hami\n",
      "Processing Record 6 of set 3 | cayeli\n",
      "Processing Record 7 of set 3 | bereda\n",
      "Processing Record 8 of set 3 | laguna\n",
      "Processing Record 9 of set 3 | colares\n",
      "Processing Record 10 of set 3 | aklavik\n",
      "Processing Record 11 of set 3 | henties bay\n",
      "Processing Record 12 of set 3 | tura\n",
      "no key\n",
      "Processing Record 14 of set 3 | bellevue\n",
      "Processing Record 15 of set 3 | kodiak\n",
      "Processing Record 16 of set 3 | temecula\n",
      "Processing Record 17 of set 3 | jalu\n",
      "Processing Record 18 of set 3 | saint-francois\n",
      "Processing Record 19 of set 3 | kinghorn\n",
      "Processing Record 20 of set 3 | victoria\n",
      "Processing Record 21 of set 3 | samana\n",
      "Processing Record 22 of set 3 | songkhla\n",
      "Processing Record 23 of set 3 | hobart\n",
      "Processing Record 24 of set 3 | raudeberg\n",
      "Processing Record 25 of set 3 | mar del plata\n",
      "no key\n",
      "Processing Record 27 of set 3 | pinheiro machado\n",
      "Processing Record 28 of set 3 | lishui\n",
      "Processing Record 29 of set 3 | puerto colombia\n",
      "Processing Record 30 of set 3 | paamiut\n",
      "Processing Record 31 of set 3 | dikson\n",
      "Processing Record 32 of set 3 | tiksi\n",
      "Processing Record 33 of set 3 | saint george\n",
      "Processing Record 34 of set 3 | mayo\n",
      "Processing Record 35 of set 3 | manhumirim\n",
      "Processing Record 36 of set 3 | nyurba\n",
      "Processing Record 37 of set 3 | suleja\n",
      "Processing Record 38 of set 3 | canoa\n",
      "no key\n",
      "Processing Record 40 of set 3 | sebeta\n",
      "Processing Record 41 of set 3 | anloga\n",
      "Processing Record 42 of set 3 | leningradskiy\n",
      "Processing Record 43 of set 3 | coquimbo\n",
      "Processing Record 44 of set 3 | saskatoon\n",
      "Processing Record 45 of set 3 | saldanha\n",
      "Processing Record 46 of set 3 | san patricio\n",
      "Processing Record 47 of set 3 | ginda\n",
      "Processing Record 48 of set 3 | oruro\n",
      "Processing Record 49 of set 3 | ilulissat\n",
      "Processing Record 50 of set 3 | torbay\n",
      "Processing Record 0 of set 4 | flin flon\n",
      "Processing Record 1 of set 4 | shache\n",
      "no key\n",
      "Processing Record 3 of set 4 | namatanai\n",
      "Processing Record 4 of set 4 | kloulklubed\n",
      "Processing Record 5 of set 4 | port hardy\n",
      "Processing Record 6 of set 4 | agirish\n",
      "Processing Record 7 of set 4 | sri aman\n",
      "Processing Record 8 of set 4 | dembi dolo\n",
      "Processing Record 9 of set 4 | kaniama\n",
      "no key\n",
      "Processing Record 11 of set 4 | college\n",
      "Processing Record 12 of set 4 | kanigiri\n",
      "Processing Record 13 of set 4 | nefteyugansk\n",
      "Processing Record 14 of set 4 | te anau\n",
      "Processing Record 15 of set 4 | srednekolymsk\n",
      "Processing Record 16 of set 4 | labuhan\n",
      "Processing Record 17 of set 4 | kattivakkam\n",
      "Processing Record 18 of set 4 | magaria\n",
      "Processing Record 19 of set 4 | santa maria del oro\n",
      "Processing Record 20 of set 4 | chipinge\n",
      "Processing Record 21 of set 4 | ponta do sol\n",
      "Processing Record 22 of set 4 | esil\n",
      "Processing Record 23 of set 4 | santiago del estero\n",
      "Processing Record 24 of set 4 | talara\n",
      "Processing Record 25 of set 4 | mount gambier\n",
      "Processing Record 26 of set 4 | harper\n",
      "Processing Record 27 of set 4 | oktyabrskiy\n"
     ]
    },
    {
     "name": "stdout",
     "output_type": "stream",
     "text": [
      "Processing Record 28 of set 4 | waipawa\n",
      "Processing Record 29 of set 4 | darnah\n",
      "Processing Record 30 of set 4 | bilma\n",
      "Processing Record 31 of set 4 | magadan\n",
      "Processing Record 32 of set 4 | dunedin\n",
      "Processing Record 33 of set 4 | noumea\n",
      "Processing Record 34 of set 4 | praia\n",
      "no key\n",
      "Processing Record 36 of set 4 | omboue\n",
      "Processing Record 37 of set 4 | finschhafen\n",
      "Processing Record 38 of set 4 | pouembout\n",
      "Processing Record 39 of set 4 | wewak\n",
      "Processing Record 40 of set 4 | novopavlovka\n",
      "Processing Record 41 of set 4 | mahebourg\n",
      "Processing Record 42 of set 4 | saint-augustin\n",
      "Processing Record 43 of set 4 | mukhen\n",
      "Processing Record 44 of set 4 | petawawa\n",
      "Processing Record 45 of set 4 | zanjan\n",
      "Processing Record 46 of set 4 | wajid\n",
      "Processing Record 47 of set 4 | oga\n",
      "no key\n",
      "Processing Record 49 of set 4 | sangar\n",
      "Processing Record 50 of set 4 | puerto ayora\n",
      "Processing Record 0 of set 5 | san rafael\n",
      "Processing Record 1 of set 5 | naze\n",
      "Processing Record 2 of set 5 | samarai\n",
      "no key\n",
      "Processing Record 4 of set 5 | asyut\n",
      "Processing Record 5 of set 5 | rantepao\n",
      "Processing Record 6 of set 5 | jasper\n",
      "Processing Record 7 of set 5 | alice springs\n",
      "Processing Record 8 of set 5 | kalachinsk\n",
      "Processing Record 9 of set 5 | kanigoro\n",
      "Processing Record 10 of set 5 | dzhebariki-khaya\n",
      "Processing Record 11 of set 5 | ludvika\n",
      "Processing Record 12 of set 5 | jiazi\n",
      "Processing Record 13 of set 5 | kurtalan\n",
      "Processing Record 14 of set 5 | thongwa\n",
      "no key\n",
      "no key\n",
      "no key\n",
      "Processing Record 18 of set 5 | mvomero\n",
      "Processing Record 19 of set 5 | castro\n",
      "Processing Record 20 of set 5 | kabalo\n",
      "Processing Record 21 of set 5 | key west\n",
      "no key\n",
      "Processing Record 23 of set 5 | lorengau\n",
      "Processing Record 24 of set 5 | caravelas\n",
      "Processing Record 25 of set 5 | dubovka\n",
      "Processing Record 26 of set 5 | dutlwe\n",
      "Processing Record 27 of set 5 | vershino-darasunskiy\n",
      "Processing Record 28 of set 5 | birao\n",
      "Processing Record 29 of set 5 | chepen\n",
      "Processing Record 30 of set 5 | katsuura\n",
      "Processing Record 31 of set 5 | foix\n",
      "Processing Record 32 of set 5 | bambanglipuro\n",
      "no key\n",
      "no key\n",
      "Processing Record 35 of set 5 | bainbridge\n",
      "no key\n",
      "Processing Record 37 of set 5 | geraldton\n",
      "Processing Record 38 of set 5 | chara\n",
      "Processing Record 39 of set 5 | manaquiri\n",
      "Processing Record 40 of set 5 | kumluca\n",
      "Processing Record 41 of set 5 | guerrero negro\n",
      "Processing Record 42 of set 5 | sulangan\n",
      "Processing Record 43 of set 5 | maltahohe\n",
      "no key\n",
      "Processing Record 45 of set 5 | coihaique\n",
      "Processing Record 46 of set 5 | cabo san lucas\n",
      "Processing Record 47 of set 5 | paita\n",
      "Processing Record 48 of set 5 | grants\n",
      "Processing Record 49 of set 5 | stepantsevo\n",
      "Processing Record 50 of set 5 | makakilo city\n",
      "Processing Record 0 of set 6 | jumla\n",
      "no key\n",
      "Processing Record 2 of set 6 | zhuhai\n",
      "Processing Record 3 of set 6 | faanui\n",
      "Processing Record 4 of set 6 | georgetown\n",
      "Processing Record 5 of set 6 | hasaki\n",
      "Processing Record 6 of set 6 | norman wells\n",
      "Processing Record 7 of set 6 | dukat\n",
      "Processing Record 8 of set 6 | kohima\n",
      "Processing Record 9 of set 6 | niono\n",
      "Processing Record 10 of set 6 | evensk\n",
      "Processing Record 11 of set 6 | airai\n",
      "Processing Record 12 of set 6 | shitanjing\n",
      "Processing Record 13 of set 6 | bac lieu\n",
      "Processing Record 14 of set 6 | fairbanks\n",
      "Processing Record 15 of set 6 | tual\n",
      "Processing Record 16 of set 6 | teguldet\n",
      "Processing Record 17 of set 6 | mairwa\n",
      "no key\n",
      "Processing Record 19 of set 6 | ichinohe\n",
      "Processing Record 20 of set 6 | paris\n",
      "Processing Record 21 of set 6 | bonavista\n",
      "Processing Record 22 of set 6 | road town\n",
      "Processing Record 23 of set 6 | gabu\n",
      "Processing Record 24 of set 6 | ust-nera\n",
      "Processing Record 25 of set 6 | bella vista\n",
      "Processing Record 26 of set 6 | lasa\n",
      "no key\n",
      "Processing Record 28 of set 6 | long branch\n",
      "Processing Record 29 of set 6 | berlevag\n",
      "Processing Record 30 of set 6 | carnarvon\n",
      "Processing Record 31 of set 6 | santo antonio do leverger\n",
      "Processing Record 32 of set 6 | sitka\n",
      "Processing Record 33 of set 6 | doka\n",
      "Processing Record 34 of set 6 | tuatapere\n",
      "Processing Record 35 of set 6 | richards bay\n",
      "Processing Record 36 of set 6 | madoc\n",
      "Processing Record 37 of set 6 | tabou\n",
      "Processing Record 38 of set 6 | grand-santi\n",
      "Processing Record 39 of set 6 | tomatlan\n",
      "Processing Record 40 of set 6 | springfield\n",
      "no key\n",
      "Processing Record 42 of set 6 | galveston\n",
      "Processing Record 43 of set 6 | meulaboh\n",
      "Processing Record 44 of set 6 | olafsvik\n",
      "Processing Record 45 of set 6 | alvorada\n",
      "no key\n",
      "Processing Record 47 of set 6 | xinzhou\n",
      "Processing Record 48 of set 6 | akdepe\n",
      "Processing Record 49 of set 6 | tamandare\n",
      "Processing Record 50 of set 6 | akyab\n",
      "Processing Record 0 of set 7 | tateyama\n",
      "Processing Record 1 of set 7 | nichinan\n",
      "Processing Record 2 of set 7 | thompson\n",
      "Processing Record 3 of set 7 | bima\n",
      "Processing Record 4 of set 7 | kaeo\n",
      "Processing Record 5 of set 7 | broome\n",
      "Processing Record 6 of set 7 | high level\n",
      "Processing Record 7 of set 7 | namibe\n",
      "Processing Record 8 of set 7 | luena\n",
      "Processing Record 9 of set 7 | anuradhapura\n",
      "Processing Record 10 of set 7 | port hawkesbury\n",
      "Processing Record 11 of set 7 | ben tre\n",
      "Processing Record 12 of set 7 | pacific grove\n",
      "Processing Record 13 of set 7 | avera\n",
      "Processing Record 14 of set 7 | macon\n",
      "Processing Record 15 of set 7 | carballo\n",
      "Processing Record 16 of set 7 | gillette\n",
      "Processing Record 17 of set 7 | iwade\n",
      "Processing Record 18 of set 7 | rock sound\n",
      "Processing Record 19 of set 7 | andra\n",
      "Processing Record 20 of set 7 | merauke\n",
      "Processing Record 21 of set 7 | kangasala\n",
      "Processing Record 22 of set 7 | umtata\n",
      "Processing Record 23 of set 7 | havre-saint-pierre\n",
      "Processing Record 24 of set 7 | haines junction\n",
      "Processing Record 25 of set 7 | kandrian\n",
      "no key\n",
      "Processing Record 27 of set 7 | columbus\n",
      "Processing Record 28 of set 7 | menongue\n",
      "Processing Record 29 of set 7 | quatre cocos\n",
      "Processing Record 30 of set 7 | leogane\n",
      "Processing Record 31 of set 7 | fortuna\n",
      "Processing Record 32 of set 7 | itaituba\n",
      "Processing Record 33 of set 7 | comodoro rivadavia\n",
      "Processing Record 34 of set 7 | aldan\n",
      "Processing Record 35 of set 7 | erenhot\n",
      "Processing Record 36 of set 7 | chumikan\n",
      "Processing Record 37 of set 7 | karasburg\n",
      "no key\n",
      "Processing Record 39 of set 7 | hohhot\n",
      "Processing Record 40 of set 7 | atar\n",
      "Processing Record 41 of set 7 | ahipara\n",
      "Processing Record 42 of set 7 | havoysund\n",
      "Processing Record 43 of set 7 | kendari\n",
      "Processing Record 44 of set 7 | maneadero\n",
      "Processing Record 45 of set 7 | kailua\n",
      "Processing Record 46 of set 7 | murten\n",
      "Processing Record 47 of set 7 | liverpool\n",
      "Processing Record 48 of set 7 | bereznik\n",
      "Processing Record 49 of set 7 | natal\n",
      "Processing Record 50 of set 7 | rocha\n",
      "Processing Record 0 of set 8 | itarema\n",
      "Processing Record 1 of set 8 | honiara\n",
      "Processing Record 2 of set 8 | miri\n",
      "Processing Record 3 of set 8 | longyearbyen\n",
      "Processing Record 4 of set 8 | los llanos de aridane\n",
      "Processing Record 5 of set 8 | chuy\n",
      "Processing Record 6 of set 8 | yumen\n",
      "Processing Record 7 of set 8 | grindavik\n",
      "no key\n",
      "Processing Record 9 of set 8 | bengkulu\n",
      "Processing Record 10 of set 8 | zhigansk\n",
      "Processing Record 11 of set 8 | kiama\n",
      "Processing Record 12 of set 8 | lavrentiya\n",
      "Processing Record 13 of set 8 | esperance\n",
      "Processing Record 14 of set 8 | grand forks\n",
      "Processing Record 15 of set 8 | inirida\n",
      "Processing Record 16 of set 8 | kavaratti\n",
      "Processing Record 17 of set 8 | mae chan\n",
      "Processing Record 18 of set 8 | santa lucia\n",
      "Processing Record 19 of set 8 | bondoukou\n",
      "Processing Record 20 of set 8 | narsaq\n",
      "Processing Record 21 of set 8 | camacha\n",
      "Processing Record 22 of set 8 | poso\n",
      "Processing Record 23 of set 8 | dois corregos\n",
      "Processing Record 24 of set 8 | tricase\n",
      "Processing Record 25 of set 8 | newport\n",
      "Processing Record 26 of set 8 | puerto del rosario\n",
      "Processing Record 27 of set 8 | vila velha\n",
      "Processing Record 28 of set 8 | cidreira\n",
      "Processing Record 29 of set 8 | belle glade\n",
      "Processing Record 30 of set 8 | codrington\n",
      "Processing Record 31 of set 8 | pombia\n",
      "Processing Record 32 of set 8 | severo-kurilsk\n",
      "Processing Record 33 of set 8 | port blair\n",
      "Processing Record 34 of set 8 | pedernales\n",
      "Processing Record 35 of set 8 | isangel\n",
      "Processing Record 36 of set 8 | eydhafushi\n",
      "Processing Record 37 of set 8 | bontang\n",
      "Processing Record 38 of set 8 | nemuro\n",
      "Processing Record 39 of set 8 | palmer\n"
     ]
    },
    {
     "name": "stdout",
     "output_type": "stream",
     "text": [
      "Processing Record 40 of set 8 | malanville\n",
      "Processing Record 41 of set 8 | kabanjahe\n",
      "Processing Record 42 of set 8 | tres arroyos\n",
      "Processing Record 43 of set 8 | oranjemund\n",
      "Processing Record 44 of set 8 | goderich\n",
      "no key\n",
      "Processing Record 46 of set 8 | salalah\n",
      "Processing Record 47 of set 8 | sao jose da coroa grande\n",
      "Processing Record 48 of set 8 | fez\n",
      "Processing Record 49 of set 8 | hobyo\n",
      "Processing Record 50 of set 8 | tongchuan\n",
      "Processing Record 0 of set 9 | kenai\n",
      "Processing Record 1 of set 9 | mpika\n",
      "no key\n",
      "Processing Record 3 of set 9 | embu\n",
      "Processing Record 4 of set 9 | guarumal\n",
      "Processing Record 5 of set 9 | linjiang\n",
      "Processing Record 6 of set 9 | pinawa\n",
      "Processing Record 7 of set 9 | kyaikkami\n",
      "Processing Record 8 of set 9 | ruwi\n",
      "Processing Record 9 of set 9 | maba\n",
      "Processing Record 10 of set 9 | belaya gora\n",
      "Processing Record 11 of set 9 | isiro\n",
      "no key\n",
      "Processing Record 13 of set 9 | tolaga bay\n",
      "Processing Record 14 of set 9 | marawi\n",
      "Processing Record 15 of set 9 | hamilton\n",
      "Processing Record 16 of set 9 | sunndalsora\n",
      "Processing Record 17 of set 9 | poum\n",
      "Processing Record 18 of set 9 | emerald\n",
      "Processing Record 19 of set 9 | shawnee\n",
      "Processing Record 20 of set 9 | muriti\n",
      "Processing Record 21 of set 9 | the valley\n",
      "Processing Record 22 of set 9 | mangrol\n",
      "Processing Record 23 of set 9 | cobija\n",
      "Processing Record 24 of set 9 | maningrida\n",
      "Processing Record 25 of set 9 | dudinka\n",
      "Processing Record 26 of set 9 | namtsy\n",
      "Processing Record 27 of set 9 | chlorakas\n",
      "Processing Record 28 of set 9 | urumqi\n",
      "Processing Record 29 of set 9 | lompoc\n",
      "Processing Record 30 of set 9 | mehamn\n",
      "no key\n",
      "Processing Record 32 of set 9 | oudtshoorn\n",
      "Processing Record 33 of set 9 | jiexiu\n",
      "Processing Record 34 of set 9 | sao joao da barra\n",
      "Processing Record 35 of set 9 | kavieng\n",
      "Processing Record 36 of set 9 | griffith\n",
      "Processing Record 37 of set 9 | sur\n",
      "no key\n",
      "Processing Record 39 of set 9 | winnemucca\n",
      "Processing Record 40 of set 9 | nova era\n",
      "no key\n",
      "Processing Record 42 of set 9 | wanning\n",
      "no key\n",
      "Processing Record 44 of set 9 | chabahar\n",
      "no key\n",
      "Processing Record 46 of set 9 | praia da vitoria\n",
      "Processing Record 47 of set 9 | prieska\n",
      "Processing Record 48 of set 9 | carutapera\n",
      "Processing Record 49 of set 9 | naxos\n",
      "Processing Record 50 of set 9 | bollnas\n",
      "Processing Record 0 of set 10 | ulaanbaatar\n",
      "Processing Record 1 of set 10 | kuching\n",
      "Processing Record 2 of set 10 | kahului\n",
      "Processing Record 3 of set 10 | batagay\n",
      "Processing Record 4 of set 10 | palimbang\n",
      "Processing Record 5 of set 10 | finspang\n",
      "Processing Record 6 of set 10 | beringovskiy\n",
      "no key\n",
      "Processing Record 8 of set 10 | verkhoyansk\n",
      "Processing Record 9 of set 10 | lagoa\n",
      "Processing Record 10 of set 10 | qinhuangdao\n",
      "Processing Record 11 of set 10 | catamayo\n",
      "no key\n",
      "Processing Record 13 of set 10 | kuito\n",
      "Processing Record 14 of set 10 | mchinji\n",
      "Processing Record 15 of set 10 | mongoumba\n",
      "Processing Record 16 of set 10 | sao jose de ribamar\n",
      "Processing Record 17 of set 10 | tromso\n",
      "Processing Record 18 of set 10 | port lincoln\n",
      "Processing Record 19 of set 10 | fushun\n",
      "Processing Record 20 of set 10 | portland\n",
      "Processing Record 21 of set 10 | kirchbichl\n",
      "Processing Record 22 of set 10 | balkhash\n",
      "Processing Record 23 of set 10 | nome\n",
      "Processing Record 24 of set 10 | harbour breton\n",
      "Processing Record 25 of set 10 | mount pleasant\n",
      "Processing Record 26 of set 10 | puerto baquerizo moreno\n",
      "no key\n",
      "Processing Record 28 of set 10 | belmonte\n",
      "Processing Record 29 of set 10 | la concordia\n",
      "no key\n",
      "Processing Record 31 of set 10 | otane\n",
      "Processing Record 32 of set 10 | iralaya\n",
      "Processing Record 33 of set 10 | kozhva\n",
      "Processing Record 34 of set 10 | maniitsoq\n",
      "Processing Record 35 of set 10 | abonnema\n",
      "Processing Record 36 of set 10 | suntar\n",
      "no key\n",
      "Processing Record 38 of set 10 | asosa\n",
      "Processing Record 39 of set 10 | bilibino\n",
      "Processing Record 40 of set 10 | paraguacu\n",
      "Processing Record 41 of set 10 | port hedland\n",
      "Processing Record 42 of set 10 | chapais\n",
      "Processing Record 43 of set 10 | bonthe\n",
      "Processing Record 44 of set 10 | luganville\n",
      "Processing Record 45 of set 10 | french harbor\n",
      "Processing Record 46 of set 10 | puerto carreno\n",
      "Processing Record 47 of set 10 | abu samrah\n",
      "Processing Record 48 of set 10 | middelkerke\n",
      "Processing Record 49 of set 10 | benjamin aceval\n",
      "Processing Record 50 of set 10 | anjozorobe\n",
      "Processing Record 0 of set 11 | sakakah\n",
      "Processing Record 1 of set 11 | arrah\n",
      "Processing Record 2 of set 11 | vostok\n",
      "Processing Record 3 of set 11 | boden\n",
      "no key\n",
      "Processing Record 5 of set 11 | alihe\n",
      "Processing Record 6 of set 11 | gornyak\n",
      "no key\n",
      "Processing Record 8 of set 11 | sawtell\n",
      "Processing Record 9 of set 11 | ambilobe\n",
      "Processing Record 10 of set 11 | myitkyina\n",
      "Processing Record 11 of set 11 | nouadhibou\n",
      "Processing Record 12 of set 11 | samarinda\n",
      "Processing Record 13 of set 11 | berbera\n",
      "Processing Record 14 of set 11 | shimoda\n",
      "no key\n",
      "Processing Record 16 of set 11 | jaisalmer\n",
      "Processing Record 17 of set 11 | egvekinot\n",
      "no key\n",
      "Processing Record 19 of set 11 | gunjur\n",
      "Processing Record 20 of set 11 | alofi\n",
      "Processing Record 21 of set 11 | levski\n",
      "Processing Record 22 of set 11 | adeje\n",
      "Processing Record 23 of set 11 | iqaluit\n",
      "Processing Record 24 of set 11 | kakrala\n",
      "Processing Record 25 of set 11 | angoram\n",
      "Processing Record 26 of set 11 | hirara\n",
      "Processing Record 27 of set 11 | lerwick\n",
      "Processing Record 28 of set 11 | vardo\n",
      "Processing Record 29 of set 11 | tessalit\n",
      "Processing Record 30 of set 11 | yaan\n",
      "Processing Record 31 of set 11 | manokwari\n",
      "Processing Record 32 of set 11 | daru\n",
      "Processing Record 33 of set 11 | vrangel\n",
      "Processing Record 34 of set 11 | ibra\n",
      "no key\n",
      "Processing Record 36 of set 11 | portsmouth\n",
      "Processing Record 37 of set 11 | carauari\n",
      "Processing Record 38 of set 11 | klaksvik\n",
      "Processing Record 39 of set 11 | salina\n",
      "Processing Record 40 of set 11 | kibara\n",
      "Processing Record 41 of set 11 | baza\n",
      "Processing Record 42 of set 11 | san juan\n",
      "Processing Record 43 of set 11 | cap malheureux\n",
      "Processing Record 44 of set 11 | yatou\n",
      "Processing Record 45 of set 11 | rawson\n",
      "Processing Record 46 of set 11 | san jose\n",
      "Processing Record 47 of set 11 | tautira\n",
      "no key\n",
      "no key\n",
      "Processing Record 50 of set 11 | lambarene\n",
      "Processing Record 0 of set 12 | lobito\n",
      "Processing Record 1 of set 12 | vung tau\n",
      "Processing Record 2 of set 12 | dingle\n",
      "Processing Record 3 of set 12 | uga\n",
      "Processing Record 4 of set 12 | erzin\n",
      "Processing Record 5 of set 12 | severo-yeniseyskiy\n",
      "Processing Record 6 of set 12 | malanje\n",
      "Processing Record 7 of set 12 | dalvik\n",
      "Processing Record 8 of set 12 | jijiga\n",
      "Processing Record 9 of set 12 | ouegoa\n",
      "Processing Record 10 of set 12 | san ignacio\n",
      "Processing Record 11 of set 12 | altay\n",
      "no key\n",
      "Processing Record 13 of set 12 | velyka bahachka\n",
      "Processing Record 14 of set 12 | oum hadjer\n",
      "Processing Record 15 of set 12 | juba\n",
      "Processing Record 16 of set 12 | lahat\n",
      "Processing Record 17 of set 12 | bihoro\n",
      "Processing Record 18 of set 12 | nisia floresta\n",
      "Processing Record 19 of set 12 | kirakira\n",
      "Processing Record 20 of set 12 | san rafael del sur\n",
      "Processing Record 21 of set 12 | santa isabel do rio negro\n",
      "Processing Record 22 of set 12 | tandil\n",
      "Processing Record 23 of set 12 | kutum\n",
      "Processing Record 24 of set 12 | alpena\n",
      "Processing Record 25 of set 12 | casper\n",
      "Processing Record 26 of set 12 | san cristobal\n",
      "Processing Record 27 of set 12 | kamenka\n",
      "Processing Record 28 of set 12 | marathon\n",
      "Processing Record 29 of set 12 | jiblah\n",
      "Processing Record 30 of set 12 | port moresby\n",
      "Processing Record 31 of set 12 | bom jesus\n",
      "Processing Record 32 of set 12 | broken hill\n",
      "Processing Record 33 of set 12 | nemyriv\n",
      "Processing Record 34 of set 12 | awjilah\n",
      "Processing Record 35 of set 12 | zhelyabovka\n",
      "Processing Record 36 of set 12 | bowmore\n",
      "Processing Record 37 of set 12 | mikhaylovka\n",
      "no key\n",
      "Processing Record 39 of set 12 | cozumel\n",
      "Processing Record 40 of set 12 | vallenar\n",
      "Processing Record 41 of set 12 | mandera\n",
      "Processing Record 42 of set 12 | ostrovnoy\n",
      "Processing Record 43 of set 12 | devecser\n",
      "Processing Record 44 of set 12 | karratha\n",
      "Processing Record 45 of set 12 | bignona\n",
      "Processing Record 46 of set 12 | gladstone\n",
      "Processing Record 47 of set 12 | aitape\n",
      "Processing Record 48 of set 12 | contamana\n",
      "Processing Record 49 of set 12 | bandarbeyla\n",
      "no key\n",
      "Processing Record 0 of set 13 | maun\n"
     ]
    },
    {
     "name": "stdout",
     "output_type": "stream",
     "text": [
      "END\n"
     ]
    }
   ],
   "source": [
    "print(\"-------------------------------------------\")\n",
    "print(\"Beginning Data Retrieval\")\n",
    "print(\"-------------------------------------------\")\n",
    "for city in cities:\n",
    "    query_url=url+\"&q=\"+city\n",
    "    response=requests.get(query_url).json()\n",
    "    if record_counter<50:\n",
    "        time.sleep(40)\n",
    "        record_counter+=1\n",
    "    else:\n",
    "        set_counter+=1\n",
    "        record_counter=0\n",
    "\n",
    "    try:\n",
    "        latitude.append(response['coord']['lat'])\n",
    "        longitude.append(response['coord']['lon'])\n",
    "        temperature.append(response['main']['temp_max'])\n",
    "        humidity.append(response['main']['humidity'])\n",
    "        cloudiness.append(response['clouds']['all'])\n",
    "        wind_speed.append(response['wind']['speed'])\n",
    "        country_name.append(response['sys']['country'])\n",
    "        date.append(response['dt'])\n",
    "        city_name.append(city)\n",
    "        print(f\"Processing Record {record_counter} of set {set_counter} | {city}\")\n",
    "\n",
    "    except KeyError:\n",
    "        print(\"no key\")\n",
    "    \n",
    "print(\"END\")"
   ]
  },
  {
   "cell_type": "markdown",
   "metadata": {},
   "source": [
    "### Convert Raw Data to DataFrame\n",
    "* Export the city data into a .csv.\n",
    "* Display the DataFrame"
   ]
  },
  {
   "cell_type": "code",
   "execution_count": 16,
   "metadata": {},
   "outputs": [
    {
     "name": "stdout",
     "output_type": "stream",
     "text": [
      "599\n",
      "599\n",
      "599\n",
      "599\n",
      "599\n",
      "599\n",
      "599\n"
     ]
    }
   ],
   "source": [
    "print(len(latitude))\n",
    "print(len(longitude))\n",
    "print(len(temperature))\n",
    "print(len(humidity))\n",
    "print(len(cloudiness))\n",
    "print(len(wind_speed))\n",
    "print(len(country_name))"
   ]
  },
  {
   "cell_type": "code",
   "execution_count": 17,
   "metadata": {},
   "outputs": [
    {
     "data": {
      "text/html": [
       "<div>\n",
       "<style scoped>\n",
       "    .dataframe tbody tr th:only-of-type {\n",
       "        vertical-align: middle;\n",
       "    }\n",
       "\n",
       "    .dataframe tbody tr th {\n",
       "        vertical-align: top;\n",
       "    }\n",
       "\n",
       "    .dataframe thead th {\n",
       "        text-align: right;\n",
       "    }\n",
       "</style>\n",
       "<table border=\"1\" class=\"dataframe\">\n",
       "  <thead>\n",
       "    <tr style=\"text-align: right;\">\n",
       "      <th></th>\n",
       "      <th>City</th>\n",
       "      <th>Latitude</th>\n",
       "      <th>Longitude</th>\n",
       "      <th>Temperature</th>\n",
       "      <th>Humidity(%)</th>\n",
       "      <th>Cloudiness</th>\n",
       "      <th>Wind Speed</th>\n",
       "      <th>Country</th>\n",
       "      <th>Date</th>\n",
       "    </tr>\n",
       "  </thead>\n",
       "  <tbody>\n",
       "    <tr>\n",
       "      <th>0</th>\n",
       "      <td>morant bay</td>\n",
       "      <td>17.88</td>\n",
       "      <td>-76.41</td>\n",
       "      <td>82.99</td>\n",
       "      <td>88</td>\n",
       "      <td>42</td>\n",
       "      <td>1.01</td>\n",
       "      <td>JM</td>\n",
       "      <td>1603922850</td>\n",
       "    </tr>\n",
       "    <tr>\n",
       "      <th>1</th>\n",
       "      <td>luderitz</td>\n",
       "      <td>-26.65</td>\n",
       "      <td>15.16</td>\n",
       "      <td>60.60</td>\n",
       "      <td>67</td>\n",
       "      <td>90</td>\n",
       "      <td>13.47</td>\n",
       "      <td>NA</td>\n",
       "      <td>1603922791</td>\n",
       "    </tr>\n",
       "    <tr>\n",
       "      <th>2</th>\n",
       "      <td>acapulco</td>\n",
       "      <td>16.86</td>\n",
       "      <td>-99.89</td>\n",
       "      <td>84.87</td>\n",
       "      <td>70</td>\n",
       "      <td>48</td>\n",
       "      <td>7.76</td>\n",
       "      <td>MX</td>\n",
       "      <td>1603922930</td>\n",
       "    </tr>\n",
       "    <tr>\n",
       "      <th>3</th>\n",
       "      <td>nanortalik</td>\n",
       "      <td>60.14</td>\n",
       "      <td>-45.24</td>\n",
       "      <td>32.85</td>\n",
       "      <td>92</td>\n",
       "      <td>100</td>\n",
       "      <td>14.83</td>\n",
       "      <td>GL</td>\n",
       "      <td>1603922970</td>\n",
       "    </tr>\n",
       "    <tr>\n",
       "      <th>4</th>\n",
       "      <td>west helena</td>\n",
       "      <td>34.55</td>\n",
       "      <td>-90.64</td>\n",
       "      <td>62.60</td>\n",
       "      <td>100</td>\n",
       "      <td>100</td>\n",
       "      <td>5.82</td>\n",
       "      <td>US</td>\n",
       "      <td>1603923010</td>\n",
       "    </tr>\n",
       "  </tbody>\n",
       "</table>\n",
       "</div>"
      ],
      "text/plain": [
       "          City  Latitude  Longitude  Temperature  Humidity(%)  Cloudiness  \\\n",
       "0   morant bay     17.88     -76.41        82.99           88          42   \n",
       "1     luderitz    -26.65      15.16        60.60           67          90   \n",
       "2     acapulco     16.86     -99.89        84.87           70          48   \n",
       "3   nanortalik     60.14     -45.24        32.85           92         100   \n",
       "4  west helena     34.55     -90.64        62.60          100         100   \n",
       "\n",
       "   Wind Speed Country        Date  \n",
       "0        1.01      JM  1603922850  \n",
       "1       13.47      NA  1603922791  \n",
       "2        7.76      MX  1603922930  \n",
       "3       14.83      GL  1603922970  \n",
       "4        5.82      US  1603923010  "
      ]
     },
     "execution_count": 17,
     "metadata": {},
     "output_type": "execute_result"
    }
   ],
   "source": [
    "city_list=({\"City\": city_name,\n",
    "                       \"Latitude\": latitude,\n",
    "                       \"Longitude\": longitude,\n",
    "                       \"Temperature\": temperature,\n",
    "                       \"Humidity(%)\": humidity,\n",
    "                       \"Cloudiness\": cloudiness,\n",
    "                       \"Wind Speed\": wind_speed,\n",
    "                       \"Country\": country_name,\n",
    "                       \"Date\": date\n",
    "                                    })\n",
    "city_df=pd.DataFrame(city_list)\n",
    "city_df.head()"
   ]
  },
  {
   "cell_type": "code",
   "execution_count": 18,
   "metadata": {},
   "outputs": [],
   "source": [
    "#TO RUN\n",
    "city_df.to_csv(output_data_file)\n",
    "city_df.to_excel(\"../weatherpy_retrieval.xlsx\")"
   ]
  },
  {
   "cell_type": "code",
   "execution_count": 19,
   "metadata": {},
   "outputs": [],
   "source": [
    "city_df=pd.read_excel(\"../weatherpy_retrieval.xlsx\")"
   ]
  },
  {
   "cell_type": "markdown",
   "metadata": {},
   "source": [
    "## Inspect the data and remove the cities where the humidity > 100%.\n",
    "----\n",
    "Skip this step if there are no cities that have humidity > 100%. "
   ]
  },
  {
   "cell_type": "code",
   "execution_count": 68,
   "metadata": {},
   "outputs": [
    {
     "name": "stdout",
     "output_type": "stream",
     "text": [
      "588\n"
     ]
    },
    {
     "data": {
      "text/html": [
       "<div>\n",
       "<style scoped>\n",
       "    .dataframe tbody tr th:only-of-type {\n",
       "        vertical-align: middle;\n",
       "    }\n",
       "\n",
       "    .dataframe tbody tr th {\n",
       "        vertical-align: top;\n",
       "    }\n",
       "\n",
       "    .dataframe thead th {\n",
       "        text-align: right;\n",
       "    }\n",
       "</style>\n",
       "<table border=\"1\" class=\"dataframe\">\n",
       "  <thead>\n",
       "    <tr style=\"text-align: right;\">\n",
       "      <th></th>\n",
       "      <th>Unnamed: 0</th>\n",
       "      <th>City</th>\n",
       "      <th>Latitude</th>\n",
       "      <th>Longitude</th>\n",
       "      <th>Temperature</th>\n",
       "      <th>Humidity(%)</th>\n",
       "      <th>Cloudiness</th>\n",
       "      <th>Wind Speed</th>\n",
       "      <th>Country</th>\n",
       "      <th>Date</th>\n",
       "    </tr>\n",
       "  </thead>\n",
       "  <tbody>\n",
       "    <tr>\n",
       "      <th>0</th>\n",
       "      <td>0</td>\n",
       "      <td>morant bay</td>\n",
       "      <td>17.88</td>\n",
       "      <td>-76.41</td>\n",
       "      <td>82.99</td>\n",
       "      <td>88</td>\n",
       "      <td>42</td>\n",
       "      <td>1.01</td>\n",
       "      <td>JM</td>\n",
       "      <td>1603922850</td>\n",
       "    </tr>\n",
       "    <tr>\n",
       "      <th>1</th>\n",
       "      <td>1</td>\n",
       "      <td>luderitz</td>\n",
       "      <td>-26.65</td>\n",
       "      <td>15.16</td>\n",
       "      <td>60.60</td>\n",
       "      <td>67</td>\n",
       "      <td>90</td>\n",
       "      <td>13.47</td>\n",
       "      <td>NaN</td>\n",
       "      <td>1603922791</td>\n",
       "    </tr>\n",
       "    <tr>\n",
       "      <th>2</th>\n",
       "      <td>2</td>\n",
       "      <td>acapulco</td>\n",
       "      <td>16.86</td>\n",
       "      <td>-99.89</td>\n",
       "      <td>84.87</td>\n",
       "      <td>70</td>\n",
       "      <td>48</td>\n",
       "      <td>7.76</td>\n",
       "      <td>MX</td>\n",
       "      <td>1603922930</td>\n",
       "    </tr>\n",
       "    <tr>\n",
       "      <th>3</th>\n",
       "      <td>3</td>\n",
       "      <td>nanortalik</td>\n",
       "      <td>60.14</td>\n",
       "      <td>-45.24</td>\n",
       "      <td>32.85</td>\n",
       "      <td>92</td>\n",
       "      <td>100</td>\n",
       "      <td>14.83</td>\n",
       "      <td>GL</td>\n",
       "      <td>1603922970</td>\n",
       "    </tr>\n",
       "    <tr>\n",
       "      <th>5</th>\n",
       "      <td>5</td>\n",
       "      <td>sao gabriel da cachoeira</td>\n",
       "      <td>-0.13</td>\n",
       "      <td>-67.09</td>\n",
       "      <td>81.01</td>\n",
       "      <td>81</td>\n",
       "      <td>100</td>\n",
       "      <td>1.70</td>\n",
       "      <td>BR</td>\n",
       "      <td>1603923050</td>\n",
       "    </tr>\n",
       "  </tbody>\n",
       "</table>\n",
       "</div>"
      ],
      "text/plain": [
       "   Unnamed: 0                      City  Latitude  Longitude  Temperature  \\\n",
       "0           0                morant bay     17.88     -76.41        82.99   \n",
       "1           1                  luderitz    -26.65      15.16        60.60   \n",
       "2           2                  acapulco     16.86     -99.89        84.87   \n",
       "3           3                nanortalik     60.14     -45.24        32.85   \n",
       "5           5  sao gabriel da cachoeira     -0.13     -67.09        81.01   \n",
       "\n",
       "   Humidity(%)  Cloudiness  Wind Speed Country        Date  \n",
       "0           88          42        1.01      JM  1603922850  \n",
       "1           67          90       13.47     NaN  1603922791  \n",
       "2           70          48        7.76      MX  1603922930  \n",
       "3           92         100       14.83      GL  1603922970  \n",
       "5           81         100        1.70      BR  1603923050  "
      ]
     },
     "execution_count": 68,
     "metadata": {},
     "output_type": "execute_result"
    }
   ],
   "source": [
    "# Make a new DataFrame equal to the city data to drop all humidity outliers by index.\n",
    "city_df_clean=(city_df[city_df[\"Humidity(%)\"]<100])\n",
    "# Passing \"inplace=False\" will make a copy of the city_data DataFrame, which we call \"clean_city_data\".\n",
    "\n",
    "city_df_clean.head()"
   ]
  },
  {
   "cell_type": "code",
   "execution_count": null,
   "metadata": {},
   "outputs": [],
   "source": []
  },
  {
   "cell_type": "markdown",
   "metadata": {},
   "source": [
    "## Plotting the Data\n",
    "* Use proper labeling of the plots using plot titles (including date of analysis) and axes labels.\n",
    "* Save the plotted figures as .pngs."
   ]
  },
  {
   "cell_type": "code",
   "execution_count": 30,
   "metadata": {},
   "outputs": [],
   "source": [
    "latitude=city_df_clean[\"Latitude\"]\n",
    "temperature=city_df_clean[\"Temperature\"]\n",
    "humidity=city_df_clean[\"Humidity(%)\"]\n",
    "cloudiness=city_df_clean[\"Cloudiness\"]\n",
    "wind_speed=city_df_clean[\"Wind Speed\"]"
   ]
  },
  {
   "cell_type": "markdown",
   "metadata": {},
   "source": [
    "## Latitude vs. Temperature Plot"
   ]
  },
  {
   "cell_type": "code",
   "execution_count": 82,
   "metadata": {
    "scrolled": true
   },
   "outputs": [
    {
     "data": {
      "image/png": "[encoded data removed]",
      "text/plain": [
       "<Figure size 432x288 with 1 Axes>"
      ]
     },
     "metadata": {
      "needs_background": "light"
     },
     "output_type": "display_data"
    }
   ],
   "source": [
    "plt.scatter(latitude,temperature)\n",
    "plt.title(\"Latitude v Temperature\")\n",
    "plt.xlabel(\"Latitude\")\n",
    "plt.ylabel(\"Temperature\") \n",
    "plt.savefig(\"../Images/lat_temp.png\")\n",
    "plt.show()"
   ]
  },
  {
   "cell_type": "markdown",
   "metadata": {},
   "source": [
    "There is an association with decreasing temperature when the latitude gets further from 0."
   ]
  },
  {
   "cell_type": "markdown",
   "metadata": {},
   "source": [
    "## Latitude vs. Humidity Plot"
   ]
  },
  {
   "cell_type": "code",
   "execution_count": 83,
   "metadata": {},
   "outputs": [
    {
     "data": {
      "image/png": "[encoded data removed]",
      "text/plain": [
       "<Figure size 432x288 with 1 Axes>"
      ]
     },
     "metadata": {
      "needs_background": "light"
     },
     "output_type": "display_data"
    }
   ],
   "source": [
    "plt.scatter(latitude,humidity)\n",
    "plt.title(\"Latitude v Humidity\")\n",
    "plt.xlabel(\"Latitude\")\n",
    "plt.ylabel(\"Humidity\")\n",
    "plt.savefig(\"../Images/lat_humid.png\")\n",
    "plt.show()    "
   ]
  },
  {
   "cell_type": "markdown",
   "metadata": {},
   "source": [
    "There is a weak but feasible positive association between lattitude and humidity"
   ]
  },
  {
   "cell_type": "markdown",
   "metadata": {},
   "source": [
    "## Latitude vs. Cloudiness Plot"
   ]
  },
  {
   "cell_type": "code",
   "execution_count": 84,
   "metadata": {},
   "outputs": [
    {
     "data": {
      "image/png": "[encoded data removed]",
      "text/plain": [
       "<Figure size 432x288 with 1 Axes>"
      ]
     },
     "metadata": {
      "needs_background": "light"
     },
     "output_type": "display_data"
    }
   ],
   "source": [
    "plt.scatter(latitude,cloudiness)\n",
    "plt.title(\"Latitude v Cloudiness\")\n",
    "plt.xlabel(\"Latitude\")\n",
    "plt.ylabel(\"Cloudiness\")\n",
    "plt.savefig(\"../Images/lat_cloudiness.png\")\n",
    "plt.show()   "
   ]
  },
  {
   "cell_type": "markdown",
   "metadata": {},
   "source": [
    "There looks to be no association between latitude and cloudiness"
   ]
  },
  {
   "cell_type": "markdown",
   "metadata": {},
   "source": [
    "## Latitude vs. Wind Speed Plot"
   ]
  },
  {
   "cell_type": "code",
   "execution_count": 85,
   "metadata": {},
   "outputs": [
    {
     "data": {
      "image/png": "[encoded data removed]",
      "text/plain": [
       "<Figure size 432x288 with 1 Axes>"
      ]
     },
     "metadata": {
      "needs_background": "light"
     },
     "output_type": "display_data"
    }
   ],
   "source": [
    "plt.scatter(latitude,wind_speed)\n",
    "plt.title(\"Latitude v Wind Speed\")\n",
    "plt.xlabel(\"Latitude\")\n",
    "plt.ylabel(\"Wind Speed\")\n",
    "plt.savefig(\"../Images/lat_wind_speed.png\")\n",
    "plt.show()"
   ]
  },
  {
   "cell_type": "markdown",
   "metadata": {},
   "source": [
    "There looks to be no association between latitude and wind speed."
   ]
  },
  {
   "cell_type": "markdown",
   "metadata": {},
   "source": [
    "## Linear Regression"
   ]
  },
  {
   "cell_type": "code",
   "execution_count": 75,
   "metadata": {},
   "outputs": [
    {
     "data": {
      "text/html": [
       "<div>\n",
       "<style scoped>\n",
       "    .dataframe tbody tr th:only-of-type {\n",
       "        vertical-align: middle;\n",
       "    }\n",
       "\n",
       "    .dataframe tbody tr th {\n",
       "        vertical-align: top;\n",
       "    }\n",
       "\n",
       "    .dataframe thead th {\n",
       "        text-align: right;\n",
       "    }\n",
       "</style>\n",
       "<table border=\"1\" class=\"dataframe\">\n",
       "  <thead>\n",
       "    <tr style=\"text-align: right;\">\n",
       "      <th></th>\n",
       "      <th>Unnamed: 0</th>\n",
       "      <th>City</th>\n",
       "      <th>Latitude</th>\n",
       "      <th>Longitude</th>\n",
       "      <th>Temperature</th>\n",
       "      <th>Humidity(%)</th>\n",
       "      <th>Cloudiness</th>\n",
       "      <th>Wind Speed</th>\n",
       "      <th>Country</th>\n",
       "      <th>Date</th>\n",
       "    </tr>\n",
       "  </thead>\n",
       "  <tbody>\n",
       "    <tr>\n",
       "      <th>1</th>\n",
       "      <td>1</td>\n",
       "      <td>luderitz</td>\n",
       "      <td>-26.65</td>\n",
       "      <td>15.16</td>\n",
       "      <td>60.60</td>\n",
       "      <td>67</td>\n",
       "      <td>90</td>\n",
       "      <td>13.47</td>\n",
       "      <td>NaN</td>\n",
       "      <td>1603922791</td>\n",
       "    </tr>\n",
       "    <tr>\n",
       "      <th>5</th>\n",
       "      <td>5</td>\n",
       "      <td>sao gabriel da cachoeira</td>\n",
       "      <td>-0.13</td>\n",
       "      <td>-67.09</td>\n",
       "      <td>81.01</td>\n",
       "      <td>81</td>\n",
       "      <td>100</td>\n",
       "      <td>1.70</td>\n",
       "      <td>BR</td>\n",
       "      <td>1603923050</td>\n",
       "    </tr>\n",
       "    <tr>\n",
       "      <th>6</th>\n",
       "      <td>6</td>\n",
       "      <td>busselton</td>\n",
       "      <td>-33.65</td>\n",
       "      <td>115.33</td>\n",
       "      <td>57.00</td>\n",
       "      <td>53</td>\n",
       "      <td>0</td>\n",
       "      <td>10.96</td>\n",
       "      <td>AU</td>\n",
       "      <td>1603923090</td>\n",
       "    </tr>\n",
       "    <tr>\n",
       "      <th>7</th>\n",
       "      <td>7</td>\n",
       "      <td>ushuaia</td>\n",
       "      <td>-54.80</td>\n",
       "      <td>-68.30</td>\n",
       "      <td>42.08</td>\n",
       "      <td>76</td>\n",
       "      <td>36</td>\n",
       "      <td>6.62</td>\n",
       "      <td>AR</td>\n",
       "      <td>1603923081</td>\n",
       "    </tr>\n",
       "    <tr>\n",
       "      <th>12</th>\n",
       "      <td>12</td>\n",
       "      <td>hithadhoo</td>\n",
       "      <td>-0.60</td>\n",
       "      <td>73.08</td>\n",
       "      <td>82.99</td>\n",
       "      <td>74</td>\n",
       "      <td>4</td>\n",
       "      <td>12.17</td>\n",
       "      <td>MV</td>\n",
       "      <td>1603923150</td>\n",
       "    </tr>\n",
       "  </tbody>\n",
       "</table>\n",
       "</div>"
      ],
      "text/plain": [
       "    Unnamed: 0                      City  Latitude  Longitude  Temperature  \\\n",
       "1            1                  luderitz    -26.65      15.16        60.60   \n",
       "5            5  sao gabriel da cachoeira     -0.13     -67.09        81.01   \n",
       "6            6                 busselton    -33.65     115.33        57.00   \n",
       "7            7                   ushuaia    -54.80     -68.30        42.08   \n",
       "12          12                 hithadhoo     -0.60      73.08        82.99   \n",
       "\n",
       "    Humidity(%)  Cloudiness  Wind Speed Country        Date  \n",
       "1            67          90       13.47     NaN  1603922791  \n",
       "5            81         100        1.70      BR  1603923050  \n",
       "6            53           0       10.96      AU  1603923090  \n",
       "7            76          36        6.62      AR  1603923081  \n",
       "12           74           4       12.17      MV  1603923150  "
      ]
     },
     "execution_count": 75,
     "metadata": {},
     "output_type": "execute_result"
    }
   ],
   "source": [
    "north_hem=city_df_clean.loc[city_df_clean[\"Latitude\"]>=0]\n",
    "south_hem=north_hem=city_df_clean.loc[city_df_clean[\"Latitude\"]<0]"
   ]
  },
  {
   "cell_type": "markdown",
   "metadata": {},
   "source": [
    "####  Northern Hemisphere - Max Temp vs. Latitude Linear Regression"
   ]
  },
  {
   "cell_type": "code",
   "execution_count": 94,
   "metadata": {},
   "outputs": [
    {
     "name": "stdout",
     "output_type": "stream",
     "text": [
      "rvalue=0.72\n"
     ]
    },
    {
     "data": {
      "image/png": "[encoded data removed]",
      "text/plain": [
       "<Figure size 432x288 with 1 Axes>"
      ]
     },
     "metadata": {
      "needs_background": "light"
     },
     "output_type": "display_data"
    }
   ],
   "source": [
    "x_val=north_hem[\"Latitude\"]\n",
    "y_val=north_hem[\"Temperature\"]\n",
    "\n",
    "(slope, intercept, rvalue, pvalue, stderr)=linregress(x_val,y_val)\n",
    "regress_val=x_val*slope+intercept\n",
    "line_eq=\"y=\"+str(round(slope,2))+\"x+\"+str(round(intercept,2))\n",
    "plt.scatter(x_val,y_val)\n",
    "plt.plot(x_val,regress_val,\"r-\")\n",
    "plt.annotate(line_eq,(-50,80),color=\"red\")\n",
    "plt.title(\"North Hemisphere: Latitude v Temperature\")\n",
    "plt.xlabel(\"Latitude\")\n",
    "plt.ylabel(\"Temperature\")\n",
    "print(f\"rvalue={round(rvalue,2)}\")\n",
    "plt.savefig(\"../Images/north_hem_temp.png\")\n",
    "plt.show()"
   ]
  },
  {
   "cell_type": "markdown",
   "metadata": {},
   "source": [
    "There is an ok positive correlation between those locations in the north hemispheres and increasing temperatures."
   ]
  },
  {
   "cell_type": "markdown",
   "metadata": {},
   "source": [
    "####  Southern Hemisphere - Max Temp vs. Latitude Linear Regression"
   ]
  },
  {
   "cell_type": "code",
   "execution_count": 95,
   "metadata": {},
   "outputs": [
    {
     "name": "stdout",
     "output_type": "stream",
     "text": [
      "rvalue=0.72\n"
     ]
    },
    {
     "data": {
      "image/png": "[encoded data removed]",
      "text/plain": [
       "<Figure size 432x288 with 1 Axes>"
      ]
     },
     "metadata": {
      "needs_background": "light"
     },
     "output_type": "display_data"
    }
   ],
   "source": [
    "x_val=south_hem[\"Latitude\"]\n",
    "y_val=south_hem[\"Temperature\"]\n",
    "\n",
    "(slope, intercept, rvalue, pvalue, stderr)=linregress(x_val,y_val)\n",
    "regress_val=x_val*slope+intercept\n",
    "line_eq=\"y=\"+str(round(slope,2))+\"x+\"+str(round(intercept,2))\n",
    "plt.scatter(x_val,y_val)\n",
    "plt.plot(x_val,regress_val,\"r-\")\n",
    "plt.annotate(line_eq,(-50,80),color=\"red\")\n",
    "plt.title(\"South Hemisphere: Latitude v Temperature\")\n",
    "plt.xlabel(\"Latitude\")\n",
    "plt.ylabel(\"Temperature\")\n",
    "print(f\"rvalue={round(rvalue,2)}\")\n",
    "plt.savefig(\"../Images/south_hem_temp.png\")\n",
    "plt.show()"
   ]
  },
  {
   "cell_type": "markdown",
   "metadata": {},
   "source": [
    "There is a weak but feasible positive correlation between those locations in the south hemispheres and increasing temperatures "
   ]
  },
  {
   "cell_type": "markdown",
   "metadata": {},
   "source": [
    "####  Northern Hemisphere - Humidity (%) vs. Latitude Linear Regression"
   ]
  },
  {
   "cell_type": "code",
   "execution_count": 96,
   "metadata": {},
   "outputs": [
    {
     "name": "stdout",
     "output_type": "stream",
     "text": [
      "rvalue=0.15\n"
     ]
    },
    {
     "data": {
      "image/png": "[encoded data removed]",
      "text/plain": [
       "<Figure size 432x288 with 1 Axes>"
      ]
     },
     "metadata": {
      "needs_background": "light"
     },
     "output_type": "display_data"
    }
   ],
   "source": [
    "x_val=north_hem[\"Latitude\"]\n",
    "y_val=north_hem[\"Humidity(%)\"]\n",
    "\n",
    "(slope, intercept, rvalue, pvalue, stderr)=linregress(x_val,y_val)\n",
    "regress_val=x_val*slope+intercept\n",
    "line_eq=\"y=\"+str(round(slope,2))+\"x+\"+str(round(intercept,2))\n",
    "plt.scatter(x_val,y_val)\n",
    "plt.plot(x_val,regress_val,\"r-\")\n",
    "plt.annotate(line_eq,(-50,80),color=\"red\")\n",
    "plt.title(\"North Hemisphere: Latitude v Humidity\")\n",
    "plt.xlabel(\"Latitude\")\n",
    "plt.ylabel(\"Humidity\")\n",
    "print(f\"rvalue={round(rvalue,2)}\")\n",
    "plt.savefig(\"../Images/north_hem_humid.png\")\n",
    "plt.show()"
   ]
  },
  {
   "cell_type": "markdown",
   "metadata": {},
   "source": [
    "There is no correlation between those locations in the north hemispheres and humidity."
   ]
  },
  {
   "cell_type": "markdown",
   "metadata": {},
   "source": [
    "####  Southern Hemisphere - Humidity (%) vs. Latitude Linear Regression"
   ]
  },
  {
   "cell_type": "code",
   "execution_count": 91,
   "metadata": {},
   "outputs": [
    {
     "name": "stdout",
     "output_type": "stream",
     "text": [
      "rvalue=0.15\n"
     ]
    },
    {
     "data": {
      "image/png": "[encoded data removed]",
      "text/plain": [
       "<Figure size 432x288 with 1 Axes>"
      ]
     },
     "metadata": {
      "needs_background": "light"
     },
     "output_type": "display_data"
    }
   ],
   "source": [
    "x_val=south_hem[\"Latitude\"]\n",
    "y_val=south_hem[\"Humidity(%)\"]\n",
    "\n",
    "(slope, intercept, rvalue, pvalue, stderr)=linregress(x_val,y_val)\n",
    "regress_val=x_val*slope+intercept\n",
    "line_eq=\"y=\"+str(round(slope,2))+\"x+\"+str(round(intercept,2))\n",
    "plt.scatter(x_val,y_val)\n",
    "plt.plot(x_val,regress_val,\"r-\")\n",
    "plt.annotate(line_eq,(-50,80),color=\"red\")\n",
    "plt.title(\"South Hemisphere: Latitude v Humidity\")\n",
    "plt.xlabel(\"Latitude\")\n",
    "plt.ylabel(\"Humidity\")\n",
    "print(f\"rvalue={round(rvalue,2)}\")\n",
    "plt.savefig(\"../Images/south_hem_humid.png\")\n",
    "plt.show()"
   ]
  },
  {
   "cell_type": "markdown",
   "metadata": {},
   "source": [
    "There is no correlation between those locations in the south hemispheres and humidity."
   ]
  },
  {
   "cell_type": "markdown",
   "metadata": {},
   "source": [
    "####  Northern Hemisphere - Cloudiness (%) vs. Latitude Linear Regression"
   ]
  },
  {
   "cell_type": "code",
   "execution_count": 97,
   "metadata": {},
   "outputs": [
    {
     "name": "stdout",
     "output_type": "stream",
     "text": [
      "rvalue=0.11\n"
     ]
    },
    {
     "data": {
      "image/png": "[encoded data removed]",
      "text/plain": [
       "<Figure size 432x288 with 1 Axes>"
      ]
     },
     "metadata": {
      "needs_background": "light"
     },
     "output_type": "display_data"
    }
   ],
   "source": [
    "x_val=north_hem[\"Latitude\"]\n",
    "y_val=north_hem[\"Cloudiness\"]\n",
    "\n",
    "(slope, intercept, rvalue, pvalue, stderr)=linregress(x_val,y_val)\n",
    "regress_val=x_val*slope+intercept\n",
    "line_eq=\"y=\"+str(round(slope,2))+\"x+\"+str(round(intercept,2))\n",
    "plt.scatter(x_val,y_val)\n",
    "plt.plot(x_val,regress_val,\"r-\")\n",
    "plt.annotate(line_eq,(-50,80),color=\"red\")\n",
    "plt.title(\"North Hemisphere: Latitude v Cloudiness\")\n",
    "plt.xlabel(\"Latitude\")\n",
    "plt.ylabel(\"Cloudiness\")\n",
    "print(f\"rvalue={round(rvalue,2)}\")\n",
    "plt.savefig(\"../Images/north_hem_cloudiness.png\")\n",
    "plt.show()"
   ]
  },
  {
   "cell_type": "markdown",
   "metadata": {},
   "source": [
    "There is no correlation between those locations in the north hemispheres and cloudiness."
   ]
  },
  {
   "cell_type": "markdown",
   "metadata": {},
   "source": [
    "####  Southern Hemisphere - Cloudiness (%) vs. Latitude Linear Regression"
   ]
  },
  {
   "cell_type": "code",
   "execution_count": 98,
   "metadata": {},
   "outputs": [
    {
     "name": "stdout",
     "output_type": "stream",
     "text": [
      "rvalue=0.11\n"
     ]
    },
    {
     "data": {
      "image/png": "[encoded data removed]",
      "text/plain": [
       "<Figure size 432x288 with 1 Axes>"
      ]
     },
     "metadata": {
      "needs_background": "light"
     },
     "output_type": "display_data"
    }
   ],
   "source": [
    "x_val=south_hem[\"Latitude\"]\n",
    "y_val=south_hem[\"Cloudiness\"]\n",
    "\n",
    "(slope, intercept, rvalue, pvalue, stderr)=linregress(x_val,y_val)\n",
    "regress_val=x_val*slope+intercept\n",
    "line_eq=\"y=\"+str(round(slope,2))+\"x+\"+str(round(intercept,2))\n",
    "plt.scatter(x_val,y_val)\n",
    "plt.plot(x_val,regress_val,\"r-\")\n",
    "plt.annotate(line_eq,(-50,80),color=\"red\")\n",
    "plt.title(\"South Hemisphere: Latitude v Cloudiness\")\n",
    "plt.xlabel(\"Latitude\")\n",
    "plt.ylabel(\"Cloudiness\")\n",
    "print(f\"rvalue={round(rvalue,2)}\")\n",
    "plt.savefig(\"../Images/south_hem_cloudiness.png\")\n",
    "plt.show()"
   ]
  },
  {
   "cell_type": "markdown",
   "metadata": {},
   "source": [
    "There is no correlation between those locations in the south hemispheres and cloudiness."
   ]
  },
  {
   "cell_type": "markdown",
   "metadata": {},
   "source": [
    "####  Northern Hemisphere - Wind Speed (mph) vs. Latitude Linear Regression"
   ]
  },
  {
   "cell_type": "code",
   "execution_count": 99,
   "metadata": {},
   "outputs": [
    {
     "name": "stdout",
     "output_type": "stream",
     "text": [
      "rvalue=-0.18\n"
     ]
    },
    {
     "data": {
      "image/png": "[encoded data removed]",
      "text/plain": [
       "<Figure size 432x288 with 1 Axes>"
      ]
     },
     "metadata": {
      "needs_background": "light"
     },
     "output_type": "display_data"
    }
   ],
   "source": [
    "x_val=north_hem[\"Latitude\"]\n",
    "y_val=north_hem[\"Wind Speed\"]\n",
    "\n",
    "(slope, intercept, rvalue, pvalue, stderr)=linregress(x_val,y_val)\n",
    "regress_val=x_val*slope+intercept\n",
    "line_eq=\"y=\"+str(round(slope,2))+\"x+\"+str(round(intercept,2))\n",
    "plt.scatter(x_val,y_val)\n",
    "plt.plot(x_val,regress_val,\"r-\")\n",
    "plt.annotate(line_eq,(-50,80),color=\"red\")\n",
    "plt.title(\"North Hemisphere: Latitude v Wind Speed\")\n",
    "plt.xlabel(\"Latitude\")\n",
    "plt.ylabel(\"Wind Speed\")\n",
    "print(f\"rvalue={round(rvalue,2)}\")\n",
    "plt.savefig(\"../Images/north_hem_wind_speed.png\")\n",
    "plt.show()"
   ]
  },
  {
   "cell_type": "markdown",
   "metadata": {},
   "source": [
    "There is no correlation between those locations in the north hemispheres and wind speed."
   ]
  },
  {
   "cell_type": "markdown",
   "metadata": {},
   "source": [
    "####  Southern Hemisphere - Wind Speed (mph) vs. Latitude Linear Regression"
   ]
  },
  {
   "cell_type": "code",
   "execution_count": 100,
   "metadata": {},
   "outputs": [
    {
     "name": "stdout",
     "output_type": "stream",
     "text": [
      "rvalue=-0.18\n"
     ]
    },
    {
     "data": {
      "image/png": "[encoded data removed]",
      "text/plain": [
       "<Figure size 432x288 with 1 Axes>"
      ]
     },
     "metadata": {
      "needs_background": "light"
     },
     "output_type": "display_data"
    }
   ],
   "source": [
    "x_val=south_hem[\"Latitude\"]\n",
    "y_val=south_hem[\"Wind Speed\"]\n",
    "\n",
    "(slope, intercept, rvalue, pvalue, stderr)=linregress(x_val,y_val)\n",
    "regress_val=x_val*slope+intercept\n",
    "line_eq=\"y=\"+str(round(slope,2))+\"x+\"+str(round(intercept,2))\n",
    "plt.scatter(x_val,y_val)\n",
    "plt.plot(x_val,regress_val,\"r-\")\n",
    "plt.annotate(line_eq,(-50,80),color=\"red\")\n",
    "plt.title(\"South Hemisphere: Latitude v Wind Speed\")\n",
    "plt.xlabel(\"Latitude\")\n",
    "plt.ylabel(\"Wind Speed\")\n",
    "print(f\"rvalue={round(rvalue,2)}\")\n",
    "plt.savefig(\"../Images/south_hem_wind_speed.png\")\n",
    "plt.show()"
   ]
  },
  {
   "cell_type": "markdown",
   "metadata": {},
   "source": [
    "There is no correlation between those locations in the south hemispheres and wind speed."
   ]
  },
  {
   "cell_type": "code",
   "execution_count": null,
   "metadata": {},
   "outputs": [],
   "source": []
  }
 ],
 "metadata": {
  "anaconda-cloud": {},
  "kernel_info": {
   "name": "python3"
  },
  "kernelspec": {
   "display_name": "Python 3",
   "language": "python",
   "name": "python3"
  },
  "language_info": {
   "codemirror_mode": {
    "name": "ipython",
    "version": 3
   },
   "file_extension": ".py",
   "mimetype": "text/x-python",
   "name": "python",
   "nbconvert_exporter": "python",
   "pygments_lexer": "ipython3",
   "version": "3.8.3"
  },
  "latex_envs": {
   "LaTeX_envs_menu_present": true,
   "autoclose": false,
   "autocomplete": true,
   "bibliofile": "biblio.bib",
   "cite_by": "apalike",
   "current_citInitial": 1,
   "eqLabelWithNumbers": true,
   "eqNumInitial": 1,
   "hotkeys": {
    "equation": "Ctrl-E",
    "itemize": "Ctrl-I"
   },
   "labels_anchors": false,
   "latex_user_defs": false,
   "report_style_numbering": false,
   "user_envs_cfg": false
  },
  "nteract": {
   "version": "0.12.3"
  }
 },
 "nbformat": 4,
 "nbformat_minor": 2
}
